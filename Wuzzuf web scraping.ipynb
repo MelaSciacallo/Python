{
 "cells": [
  {
   "cell_type": "code",
   "execution_count": 1,
   "id": "3d21de5a",
   "metadata": {},
   "outputs": [],
   "source": [
    "import requests\n",
    "from bs4 import BeautifulSoup\n",
    "import csv\n",
    "from itertools import zip_longest"
   ]
  },
  {
   "cell_type": "code",
   "execution_count": 2,
   "id": "1b6bf00c",
   "metadata": {},
   "outputs": [],
   "source": [
    "job_title=[]\n",
    "company_name=[]\n",
    "location_name=[]\n",
    "job_skill=[]\n",
    "links=[]\n",
    "job_type=[]  \n",
    "date = []\n",
    "page_num = 0"
   ]
  },
  {
   "cell_type": "code",
   "execution_count": 6,
   "id": "8d3c1690",
   "metadata": {},
   "outputs": [],
   "source": [
    "while True:\n",
    "    result = requests.get(\"https://wuzzuf.net/search/jobs/?a=spbg&q=python\")\n",
    "    src = result.content\n",
    "    soup = BeautifulSoup(src,\"lxml\")\n",
    "    job_titles = soup.find_all(\"h2\",{\"class\":\"css-m604qf\"})\n",
    "    company_names = soup.find_all(\"a\",{\"class\":\"css-17s97q8\"})\n",
    "    locations_names = soup.find_all(\"span\",{\"class\":\"css-5wys0k\"})\n",
    "    job_skills = soup.find_all(\"div\",{\"class\":\"css-y4udm8\"})\n",
    "    job_types = soup.find_all(\"div\",{\"class\":\"css-1lh32fc\"})\n",
    "    posted_new = soup.find_all(\"div\",{\"class\":\"css-4c4ojb\"})\n",
    "    posted_old = soup.find_all(\"div\",{\"class\":\"css-do6t5g\"})\n",
    "    posted = [*posted_new,*posted_old]\n",
    "\n",
    "    for i in range(len(job_titles)):\n",
    "        job_title.append(job_titles[i].text)\n",
    "        company_name.append(company_names[i].text)\n",
    "        location_name.append(locations_names[i].text)\n",
    "        job_skill.append(job_skills[i].text)\n",
    "        job_type.append(job_types[i].text)\n",
    "        date.append(posted[i].text)"
   ]
  },
  {
   "cell_type": "code",
   "execution_count": 7,
   "id": "9b248343",
   "metadata": {},
   "outputs": [],
   "source": [
    "file_list = [job_title,company_name, date,location_name,job_skill,job_type]\n",
    "exported = zip_longest(*file_list)"
   ]
  },
  {
   "cell_type": "code",
   "execution_count": 8,
   "id": "5d3e0ed8",
   "metadata": {},
   "outputs": [],
   "source": [
    "with open(r\"C:\\Users\\TOP\\Downloads\\Data Scinence\\D.S\\Data Scinence\\D.S\\Cases\\Final\\FWS.csv\",\"w\") as myfile:\n",
    "    wr = csv.writer(myfile)\n",
    "    wr.writerow([\"job title\",\"company name\",\"post date\",\"location\",\"skills\",\"job type\"])\n",
    "    wr.writerows(exported)"
   ]
  }
 ],
 "metadata": {
  "kernelspec": {
   "display_name": "Python 3 (ipykernel)",
   "language": "python",
   "name": "python3"
  },
  "language_info": {
   "codemirror_mode": {
    "name": "ipython",
    "version": 3
   },
   "file_extension": ".py",
   "mimetype": "text/x-python",
   "name": "python",
   "nbconvert_exporter": "python",
   "pygments_lexer": "ipython3",
   "version": "3.9.12"
  }
 },
 "nbformat": 4,
 "nbformat_minor": 5
}
